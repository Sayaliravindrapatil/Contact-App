{
  "cells": [
    {
      "cell_type": "markdown",
      "metadata": {
        "id": "view-in-github",
        "colab_type": "text"
      },
      "source": [
        "<a href=\"https://colab.research.google.com/github/Sayaliravindrapatil/Contact-App/blob/main/contact_app.ipynb\" target=\"_parent\"><img src=\"https://colab.research.google.com/assets/colab-badge.svg\" alt=\"Open In Colab\"/></a>"
      ]
    },
    {
      "cell_type": "markdown",
      "metadata": {
        "id": "3IsMEit76KT8"
      },
      "source": [
        "# Contact app\n",
        "\n",
        "You have learnt a lot of new things; data structures, string, regex & files. Lets use all our newly acquired knowledge to build a **contact app**, just like the ones in our smartphone.\n",
        "\n",
        "We will not be building a fancy UI, instead we will focus on understanding the programming logic.\n",
        "\n",
        "Lets get started!\n",
        "\n",
        "Think of all the features that your contact app has . . . !\n",
        "- It can show you all the contact names\n",
        "- You can search for contacts (using name)\n",
        "- You can see all the information associated with the contact\n",
        "- You can delete and update contacts\n",
        "\n",
        "Can you think of anything more ? Our contact app should have at least these features. \n",
        "- The app should show us all the contact names\n",
        "- It should allow us to select a contact and view all the information associated with the contact\n",
        "- It should allow us to update contact info & delete contact\n",
        "- Finally, it should show us all the contact names\n",
        "\n",
        "For every contact, we will store the `name`, `number` & `email`. "
      ]
    },
    {
      "cell_type": "markdown",
      "metadata": {
        "id": "K0jX2T0B6KUH"
      },
      "source": [
        "### Data Structure\n",
        "The very first thing that we need to decide is \"What data structure to use?\"\n",
        "\n",
        "To store all the contacts, we can use a list of dictionaries; were each dictionary stores the `name`, `number` & `email`  of the contact. \n",
        "\n",
        "Create a list of dictionaries called `contacts` with 3 dummy contacts.  "
      ]
    },
    {
      "cell_type": "code",
      "execution_count": 2,
      "metadata": {
        "id": "BBfnxSkz6KUJ"
      },
      "outputs": [],
      "source": [
        "contacts=[{\"Name\":\"Sayali Patil\",\"Number\":\"9503060497\",\"Email\":\"miss.sayalipatil@0527\"},{\"Name\":\"Madhavi Shinde\",\"Number\":\"6655665841\",\"Email\":\"miss.madhavishinde@15646\"},{\"Name\":\"Sanskruti Dhadwe\",\"Number\":\"5677848450\",\"Email\":\"miss.sansdhadwe@15412\"}]"
      ]
    },
    {
      "cell_type": "markdown",
      "metadata": {
        "id": "casq_sYJ6KUL"
      },
      "source": [
        "### List all contact names\n",
        "Write `show_contacts` function that takes the `contacts` list and prints all the contact names. These names will help us to select the contact later."
      ]
    },
    {
      "cell_type": "code",
      "execution_count": 3,
      "metadata": {
        "colab": {
          "base_uri": "https://localhost:8080/"
        },
        "id": "GCb7ZgxA6KUM",
        "outputId": "557b36cb-4914-4c9c-d537-0d501d29f824"
      },
      "outputs": [
        {
          "output_type": "stream",
          "name": "stdout",
          "text": [
            "Sayali Patil\n",
            "Madhavi Shinde\n",
            "Sanskruti Dhadwe\n"
          ]
        }
      ],
      "source": [
        "def show_contacts(contacts):\n",
        "  for i in contacts:\n",
        "    print(i[\"Name\"])\n",
        "\n",
        "show_contacts(contacts)"
      ]
    },
    {
      "cell_type": "code",
      "execution_count": 4,
      "metadata": {
        "id": "ApS7Qg8I6KUN",
        "colab": {
          "base_uri": "https://localhost:8080/"
        },
        "outputId": "405a6fec-9fad-47d1-93da-065c92dcb5b4"
      },
      "outputs": [
        {
          "output_type": "stream",
          "name": "stdout",
          "text": [
            "Sayali Patil\n",
            "Madhavi Shinde\n",
            "Sanskruti Dhadwe\n"
          ]
        }
      ],
      "source": [
        "show_contacts(contacts)"
      ]
    },
    {
      "cell_type": "markdown",
      "metadata": {
        "id": "2TKP3W9p6KUO"
      },
      "source": [
        "### Add a new Contact\n",
        "\n",
        "Write `add_contact` function that takes user input and *adds new contact* dictionary to the existing list of `contacts`."
      ]
    },
    {
      "cell_type": "code",
      "execution_count": 5,
      "metadata": {
        "id": "dUJjlcbc6KUP",
        "colab": {
          "base_uri": "https://localhost:8080/"
        },
        "outputId": "cb28327f-6651-4caa-e52c-80713c7374d4"
      },
      "outputs": [
        {
          "output_type": "stream",
          "name": "stdout",
          "text": [
            "enter your nameSamruddhi Dhoot\n",
            "enter your number9856321478\n",
            "enter your email idmiss.samruddhi@123\n",
            "{'Name': 'Samruddhi Dhoot', 'Number': '9856321478', 'Email': 'miss.samruddhi@123'}\n"
          ]
        }
      ],
      "source": [
        "def add_contact(contacts):\n",
        "  add={}\n",
        "  name=input(\"enter your name\")\n",
        "  number=input(\"enter your number\")\n",
        "  email=input(\"enter your email id\")\n",
        "  add.update({\"Name\":name,\"Number\":number,\"Email\":email})\n",
        "  print(add)\n",
        "  contacts.append(add)\n",
        "\n",
        "add_contact(contacts)"
      ]
    },
    {
      "cell_type": "code",
      "execution_count": 6,
      "metadata": {
        "id": "PLGUxMcw6KUQ",
        "colab": {
          "base_uri": "https://localhost:8080/"
        },
        "outputId": "e9f2134d-3f03-4320-975f-965574ae2c93"
      },
      "outputs": [
        {
          "output_type": "stream",
          "name": "stdout",
          "text": [
            "enter your nameVaishnavi Patil\n",
            "enter your number9658457896\n",
            "enter your email idmrs.vaishnavipatil@234\n",
            "{'Name': 'Vaishnavi Patil', 'Number': '9658457896', 'Email': 'mrs.vaishnavipatil@234'}\n"
          ]
        }
      ],
      "source": [
        "add_contact(contacts)"
      ]
    },
    {
      "cell_type": "markdown",
      "metadata": {
        "id": "aVdPvnqx6KUU"
      },
      "source": [
        "### Delete Contact\n",
        "\n",
        "Write `delete_contact` function to delete an existing contact by providing `name` of the contact which we want to delete."
      ]
    },
    {
      "cell_type": "code",
      "execution_count": 7,
      "metadata": {
        "id": "tY13wdIg6KUV",
        "colab": {
          "base_uri": "https://localhost:8080/"
        },
        "outputId": "28d9bf83-71d0-4912-d7dc-afe009379c2a"
      },
      "outputs": [
        {
          "output_type": "stream",
          "name": "stdout",
          "text": [
            "[{'Name': 'Sayali Patil', 'Number': '9503060497', 'Email': 'miss.sayalipatil@0527'}, {'Name': 'Madhavi Shinde', 'Number': '6655665841', 'Email': 'miss.madhavishinde@15646'}, {'Name': 'Samruddhi Dhoot', 'Number': '9856321478', 'Email': 'miss.samruddhi@123'}, {'Name': 'Vaishnavi Patil', 'Number': '9658457896', 'Email': 'mrs.vaishnavipatil@234'}]\n"
          ]
        }
      ],
      "source": [
        "def delete_contact(contacts, name):\n",
        "  for k in contacts:\n",
        "    if k['Name']==name:\n",
        "      contacts.remove(k)\n",
        "      break\n",
        "  print(contacts)\n",
        "  \n",
        "delete_contact(contacts,\"Sanskruti Dhadwe\")"
      ]
    },
    {
      "cell_type": "code",
      "execution_count": 8,
      "metadata": {
        "id": "sZF_df956KUW",
        "colab": {
          "base_uri": "https://localhost:8080/"
        },
        "outputId": "6877c8b9-9a84-4ab6-e876-f8b15cc933b3"
      },
      "outputs": [
        {
          "output_type": "stream",
          "name": "stdout",
          "text": [
            "[{'Name': 'Sayali Patil', 'Number': '9503060497', 'Email': 'miss.sayalipatil@0527'}, {'Name': 'Madhavi Shinde', 'Number': '6655665841', 'Email': 'miss.madhavishinde@15646'}, {'Name': 'Vaishnavi Patil', 'Number': '9658457896', 'Email': 'mrs.vaishnavipatil@234'}]\n"
          ]
        }
      ],
      "source": [
        "delete_contact(contacts, \"Samruddhi Dhoot\")"
      ]
    },
    {
      "cell_type": "markdown",
      "metadata": {
        "id": "UBEP7Ovi6KUW"
      },
      "source": [
        "### Update Contact details\n",
        "\n",
        "Let's write `update_contact` function which will *update contact details* such as `name`, `email` & `number`. \n",
        "The functions should take `contacts` and `name` as arguments. It should also print the newly added contact."
      ]
    },
    {
      "cell_type": "code",
      "execution_count": 11,
      "metadata": {
        "id": "AYzFyCzX6KUX",
        "colab": {
          "base_uri": "https://localhost:8080/"
        },
        "outputId": "31eadcca-954e-463e-b6b9-a90103118ff3"
      },
      "outputs": [
        {
          "name": "stdout",
          "output_type": "stream",
          "text": [
            "Enter name that uh wanna updateSayali Ravindra Patil\n",
            "Enter email that uh wanna update\n",
            "Enter number that uh wanna update\n"
          ]
        }
      ],
      "source": [
        "def update_contact(contacts,name):\n",
        "  n=input(\"Enter name that uh wanna update\")\n",
        "  e=input('Enter email that uh wanna update')\n",
        "  no=input(\"Enter number that uh wanna update\")\n",
        "  for i in contacts:\n",
        "    if i['Name']==name:\n",
        "      if len(n)>0:\n",
        "        i['Name']=n\n",
        "      elif len(e)>5:\n",
        "        i[\"Email\"]=e\n",
        "      elif len(no)==10:\n",
        "        i[\"Number\"]=no\n",
        "\n",
        "update_contact(contacts,\"Sayali Patil\")"
      ]
    },
    {
      "cell_type": "code",
      "execution_count": 10,
      "metadata": {
        "id": "aabpsD-h6KUY",
        "colab": {
          "base_uri": "https://localhost:8080/",
          "height": 165
        },
        "outputId": "85ac2ed4-781e-4947-a5ce-69099e65ac76"
      },
      "outputs": [
        {
          "output_type": "error",
          "ename": "NameError",
          "evalue": "ignored",
          "traceback": [
            "\u001b[0;31m---------------------------------------------------------------------------\u001b[0m",
            "\u001b[0;31mNameError\u001b[0m                                 Traceback (most recent call last)",
            "\u001b[0;32m<ipython-input-10-7e6ec4933564>\u001b[0m in \u001b[0;36m<module>\u001b[0;34m\u001b[0m\n\u001b[0;32m----> 1\u001b[0;31m \u001b[0mupdate_contact\u001b[0m\u001b[0;34m(\u001b[0m\u001b[0mcontacts\u001b[0m\u001b[0;34m,\u001b[0m \u001b[0mname\u001b[0m\u001b[0;34m)\u001b[0m\u001b[0;34m\u001b[0m\u001b[0;34m\u001b[0m\u001b[0m\n\u001b[0m",
            "\u001b[0;31mNameError\u001b[0m: name 'name' is not defined"
          ]
        }
      ],
      "source": [
        "\n",
        "update_contact(contacts,\"Sayali Patil\")"
      ]
    },
    {
      "cell_type": "markdown",
      "metadata": {
        "id": "g2aGbQJc6KUY"
      },
      "source": [
        "### Open Contact \n",
        "`open_contact` function takes the `contacts` list and a `name` string as input. It prints the contact details if `name` matches some contact name in the `contacts` list, else prints `No match found!`.\n",
        "\n",
        "**Note:** The functions should be case insensitive. "
      ]
    },
    {
      "cell_type": "code",
      "execution_count": null,
      "metadata": {
        "id": "8pZ-eC9N6KUZ",
        "colab": {
          "base_uri": "https://localhost:8080/"
        },
        "outputId": "d630c8ea-c101-44ad-e19a-139a3f871451"
      },
      "outputs": [
        {
          "output_type": "stream",
          "name": "stdout",
          "text": [
            "No match found!!!\n"
          ]
        }
      ],
      "source": [
        "def open_contact(contacts, name):\n",
        "  for i in contacts:\n",
        "    if i[\"Name\"]==name:\n",
        "      print(i[\"Name\"],i[\"Number\"],i[\"Email\"])\n",
        "      break\n",
        "    else:\n",
        "      print(\"No match found!!!\")\n",
        "      break\n",
        "\n",
        "open_contact(contacts,\"Sayali Patil\")"
      ]
    },
    {
      "cell_type": "code",
      "execution_count": null,
      "metadata": {
        "id": "YjWMRTHW6KUZ"
      },
      "outputs": [],
      "source": [
        "open_contact(contacts, name)"
      ]
    },
    {
      "cell_type": "markdown",
      "metadata": {
        "id": "HvMGUVQ96KUa"
      },
      "source": [
        "We often see *update* & *delete* options after we open a particular contact. It would be great if we can also implement the same. \n",
        "\n",
        "After opening the contact, the program should wait for user input. The user can press `u` to update & `d` delete contact. Any other key press should be ignored\n",
        "\n",
        "Write the updated `open_contact` function below"
      ]
    },
    {
      "cell_type": "code",
      "execution_count": null,
      "metadata": {
        "id": "5QxlVZvZ6KUa",
        "colab": {
          "base_uri": "https://localhost:8080/"
        },
        "outputId": "03cdfa95-cbc0-47cb-8feb-45644d18b4b4"
      },
      "outputs": [
        {
          "output_type": "stream",
          "name": "stdout",
          "text": [
            "Enter 'u' to update and 'd' to delete contact d\n",
            "[{'Name': 'Sayali Ravindra Patil', 'Number': '9503060497', 'Email': 'miss.sayalipatil@0527'}, {'Name': 'Sanskruti Dhadwe', 'Number': '5677848450', 'Email': 'miss.sansdhadwe@15412'}, {'Name': 'samruddhi dhoot', 'Number': '6598457', 'Email': 'miss.samrudhidhoot@gmail.com'}]\n"
          ]
        }
      ],
      "source": [
        "def open_contact(contacts, name):\n",
        "    option=input(\"Enter 'u' to update and 'd' to delete contact \")\n",
        "    if option==\"u\":\n",
        "      update_contact(contacts,name)\n",
        "    elif option==\"d\":\n",
        "      delete_contact(contacts,name)\n",
        "\n",
        "\n",
        "open_contact(contacts,\"Madhavi V Shinde\")"
      ]
    },
    {
      "cell_type": "code",
      "execution_count": null,
      "metadata": {
        "id": "UtwRxQNJ6KUb"
      },
      "outputs": [],
      "source": [
        "open_contact(contacts, name)"
      ]
    },
    {
      "cell_type": "markdown",
      "metadata": {
        "id": "76WP-V9Q6KUb"
      },
      "source": [
        "### Complete application (using all the above functions in use)\n",
        "\n",
        "We will use an infinite loop to encapsulate our application logic and break only when `q` is pressed. We will use `clear_output()` function from `IPython.display` to clear the output before printing anything new.\n",
        "\n",
        "Below is the pseudo-code to help you build the application logic."
      ]
    },
    {
      "cell_type": "code",
      "execution_count": null,
      "metadata": {
        "id": "SdC3xZep6KUc",
        "colab": {
          "base_uri": "https://localhost:8080/"
        },
        "outputId": "f4497b59-b02a-4651-c293-31c030f9e6a8"
      },
      "outputs": [
        {
          "name": "stdout",
          "output_type": "stream",
          "text": [
            "Press 'a' - add contact, 'o' - open contact, 's' - search contact, 'q' - quit,'d'- to delete,'u'-to updateo\n",
            "Enter name of the contact you want to open. Sayali Patil\n",
            "Sayali Patil 9503060497 miss.sayalipatil@0527\n",
            "Press 'a' - add contact, 'o' - open contact, 's' - search contact, 'q' - quit,'d'- to delete,'u'-to updateu\n",
            "Enter name that uh wanna update\n",
            "Enter email that uh wanna update\n",
            "Enter number that uh wanna update\n",
            "Press 'a' - add contact, 'o' - open contact, 's' - search contact, 'q' - quit,'d'- to delete,'u'-to updateq\n"
          ]
        }
      ],
      "source": [
        "from ast import Break\n",
        "from IPython.display import clear_output\n",
        "\n",
        "while True:\n",
        "\n",
        "  contacts=[{\"Name\":\"Sayali Patil\",\"Number\":\"9503060497\",\"Email\":\"miss.sayalipatil@0527\"},\n",
        "            {\"Name\":\"Madhavi Shinde\",\"Number\":\"6655665841\",\"Email\":\"miss.madhavishinde@15646\"},\n",
        "            {\"Name\":\"Sanskruti Dhadwe\",\"Number\":\"5677848450\",\"Email\":\"miss.sansdhadwe@15412\"}]\n",
        "  \n",
        "  action = input(\"Press 'a' - add contact, 'o' - open contact,  'q' - quit,'d'- to delete,'u'-to update\")\n",
        "  if action == 'a':\n",
        "    def add_contact(contacts):\n",
        "      add={}\n",
        "      name=input(\"enter your name\")\n",
        "      number=input(\"enter your number\")\n",
        "      email=input(\"enter your email id\")\n",
        "      add.update({\"Name\":name,\"Number\":number,\"Email\":email})\n",
        "      print(add)\n",
        "      contacts.append(add)\n",
        "      # add[\"Name\"]=input()\n",
        "      add_contact(contacts)\n",
        "\n",
        "  elif action == 'o':\n",
        "    name = input(\"Enter name of the contact you want to open. \")\n",
        "    def open_contact(contacts, name):\n",
        "      for i in contacts:\n",
        "        if i[\"Name\"]==name:\n",
        "          print(i[\"Name\"],i[\"Number\"],i[\"Email\"])\n",
        "          break\n",
        "        else:\n",
        "          print(\"No match found!!!\")\n",
        "          break\n",
        "    open_contact(contacts,name)\n",
        "\n",
        "  elif action==\"d\":\n",
        "    def delete_contact(contacts, name):\n",
        "      for k in contacts:\n",
        "        if k['Name']==name:\n",
        "          contacts.remove(k)\n",
        "          break\n",
        "      print(contacts)\n",
        "      \n",
        "    delete_contact(contacts,name)\n",
        "\n",
        "  elif action==\"u\":       \n",
        "    def update_contact(contacts,name):\n",
        "      n=input(\"Enter name that uh wanna update\")\n",
        "      e=input('Enter email that uh wanna update')\n",
        "      no=input(\"Enter number that uh wanna update\")\n",
        "      for i in contacts:\n",
        "        if i['Name']==name:\n",
        "          if len(n)>0:\n",
        "            i['Name']=n\n",
        "          elif len(e)>5:\n",
        "            i[\"Email\"]=e\n",
        "          elif len(no)==10:\n",
        "            i[\"Number\"]=no\n",
        "    update_contact(contacts,name)\n",
        "\n",
        "  elif action == 'q':\n",
        "    break\n",
        "  \n",
        "  else:\n",
        "    print(\"invalid choice\")"
      ]
    },
    {
      "cell_type": "code",
      "source": [
        "from ast import Break\n",
        "from IPython.display import clear_output\n",
        "\n",
        "while True:\n",
        "\n",
        "  contacts=[{\"Name\":\"Sayali Patil\",\"Number\":\"9503060497\",\"Email\":\"miss.sayalipatil@0527\"},\n",
        "            {\"Name\":\"Madhavi Shinde\",\"Number\":\"6655665841\",\"Email\":\"miss.madhavishinde@15646\"},\n",
        "            {\"Name\":\"Sanskruti Dhadwe\",\"Number\":\"5677848450\",\"Email\":\"miss.sansdhadwe@15412\"}]\n",
        "  \n",
        "  action = input(\"Press 'a' - add contact, 'o' - open contact,  'q' - quit,'d'- to delete,'u'-to update\")\n",
        "  if action == 'a':\n",
        "    def add_contact(contacts):\n",
        "      add={}\n",
        "      name=input(\"enter your name\")\n",
        "      number=input(\"enter your number\")\n",
        "      email=input(\"enter your email id\")\n",
        "      add.update({\"Name\":name,\"Number\":number,\"Email\":email})\n",
        "      print(add)\n",
        "      contacts.append(add)\n",
        "      add_contact(contacts)\n",
        "\n",
        "  elif action == 'o':\n",
        "    name = input(\"Enter name of the contact you want to open. \")\n",
        "    def open_contact(contacts, name):\n",
        "      for i in contacts:\n",
        "        if i[\"Name\"]==name:\n",
        "          print(i[\"Name\"],i[\"Number\"],i[\"Email\"])\n",
        "          break\n",
        "        else:\n",
        "          print(\"No match found!!!\")\n",
        "          break\n",
        "    open_contact(contacts,name)\n",
        "\n",
        "  elif action==\"d\":\n",
        "    def delete_contact(contacts, name):\n",
        "      for k in contacts:\n",
        "        if k['Name']==name:\n",
        "          contacts.remove(k)\n",
        "          break\n",
        "      print(contacts)\n",
        "      \n",
        "    delete_contact(contacts,name)\n",
        "\n",
        "  elif action==\"u\":       \n",
        "    def update_contact(contacts,name):\n",
        "      n=input(\"Enter name that uh wanna update\")\n",
        "      e=input('Enter email that uh wanna update')\n",
        "      no=input(\"Enter number that uh wanna update\")\n",
        "      for i in contacts:\n",
        "        if i['Name']==name:\n",
        "          if len(n)>0:\n",
        "            i['Name']=n\n",
        "          elif len(e)>5:\n",
        "            i[\"Email\"]=e\n",
        "          elif len(no)==10:\n",
        "            i[\"Number\"]=no\n",
        "    update_contact(contacts,name)\n",
        "\n",
        "  elif action == 'q':\n",
        "    break\n",
        "  \n",
        "  else:\n",
        "    print(\"invalid choice\")"
      ],
      "metadata": {
        "id": "tD3vx7hfhPC_"
      },
      "execution_count": null,
      "outputs": []
    },
    {
      "cell_type": "markdown",
      "metadata": {
        "id": "lUQRfFJZ6KUd"
      },
      "source": [
        "## Using files\n",
        "\n",
        "One major problem with the above approach is \"persistent storage\". Every time you close this notebook, all the new contacts are lost. This happens because `contacts` is a python variable. Its lives inside python session. As soon as the session is killed/terminated, all the varibles are also deleted.\n",
        "\n",
        "To address this problem, we will have to use save the contacts in a disk. What better reason to use files? Instead of using *list of dictionary*, use file to save the contacts. \n",
        "\n",
        "Save every new contact in a new-line and use \" , \" to separate the contact fields. This is how the above contacts should look, when saved in a file.\n",
        "\n",
        "```text\n",
        "vivek, vivek@gmail.com, 9921668254\n",
        "ankur, ankur@gmail.com, 8806807004\n",
        "pranav, pranav@gmail.com, 987654321\n",
        "```\n",
        "\n",
        "You task is to make appropriate changes to the above code to use `contacts.txt` instead of using `contacts` list."
      ]
    },
    {
      "cell_type": "markdown",
      "metadata": {
        "id": "8eqNtyHW6KUd"
      },
      "source": [
        "## Using Regex\n",
        "\n",
        "Yet another problem with our app is \"lack of validation\". While creating a new contact, user is free to enter anything. But why is that a problem? \n",
        "\n",
        "**Input validation** is important to ensure only properly formed data is entering the workflow in an information system, preventing malformed data from persisting in the database and triggering malfunction of various downstream components. Input validation should happen as early as possible in the data flow, preferably as soon as the data is received. [source](https://cheatsheetseries.owasp.org/cheatsheets/Input_Validation_Cheat_Sheet.html)\n",
        "\n",
        "The above paragraph is the complete gist of Input validation. Read it again & ponder for a minute. Its an important concept when building customer facing applications. We would highly recommend you to Google and read more about it.  \n",
        "\n",
        "Use regular expression to validate user input (before you save it to the file). Implement the following:\n",
        "- `Name` should be all alphabets. \" \" should also be allowed.\n",
        "- For `email` refer regex chapter from course material.\n",
        "- `Number` should have 10 digits. Not less, not more. Also, not alphabets should be allowed.\n",
        "- Add a new field `DOB` to each contact. It should follow YYYY-MM-DD format. Then write a regular expression to validate it. Remember, date & month cannot be greater that 31 & 12, respectively. \n",
        "\n",
        "Can you think of any more validations?"
      ]
    },
    {
      "cell_type": "markdown",
      "metadata": {
        "id": "b6zKB1tm6KUe"
      },
      "source": [
        "We really hope you had a wonderful time building this applications. This is how applications are developed in really life. You start with a set of basic functionalities and then you keep adding new features (like persistent storage & validation). As the application grows in size, you might encounter new problems to solve."
      ]
    }
  ],
  "metadata": {
    "kernelspec": {
      "display_name": "Python 3",
      "language": "python",
      "name": "python3"
    },
    "language_info": {
      "codemirror_mode": {
        "name": "ipython",
        "version": 3
      },
      "file_extension": ".py",
      "mimetype": "text/x-python",
      "name": "python",
      "nbconvert_exporter": "python",
      "pygments_lexer": "ipython3",
      "version": "3.7.4"
    },
    "toc": {
      "base_numbering": 1,
      "nav_menu": {},
      "number_sections": true,
      "sideBar": true,
      "skip_h1_title": false,
      "title_cell": "Table of Contents",
      "title_sidebar": "Contents",
      "toc_cell": false,
      "toc_position": {},
      "toc_section_display": true,
      "toc_window_display": false
    },
    "colab": {
      "provenance": [],
      "collapsed_sections": [],
      "include_colab_link": true
    }
  },
  "nbformat": 4,
  "nbformat_minor": 0
}